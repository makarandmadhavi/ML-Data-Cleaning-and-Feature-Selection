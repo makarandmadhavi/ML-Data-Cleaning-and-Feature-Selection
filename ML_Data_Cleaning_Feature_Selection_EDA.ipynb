{
 "cells": [
  {
   "cell_type": "markdown",
   "id": "8b1dda43",
   "metadata": {},
   "source": [
    "\n",
    "## ML Data Cleaning and Feature Selection\n",
    "\n",
    "In this assignment, you will use a dataset for predictive learning and check the quality of the data and determine which features are important.\n",
    "\n",
    "Answer the following questions:\n",
    "\n",
    "* What are the data types? (Only numeric and categorical)\n",
    "\n",
    "* Are there missing values?\n",
    "\n",
    "* What are the likely distributions of the numeric variables?\n",
    "\n",
    "* Which independent variables are useful to predict a target (dependent variable)? (Use at least three methods)\n",
    "\n",
    "* Which independent variables have missing data? How much? \n",
    "\n",
    "* Do the training and test sets have the same data?\n",
    "\n",
    "* In the predictor variables independent of all the other predictor variables?\n",
    "\n",
    "* Which predictor variables are the most important?\n",
    "\n",
    "* Do the ranges of the predictor variables make sense?\n",
    "\n",
    "* What are the distributions of the predictor variables?   \n",
    "\n",
    "* Remove outliers and keep outliers (does if have an effect of the final predictive model)?\n",
    "\n",
    "* Remove 1%, 5%, and 10% of your data randomly and impute the values back using at least 3 imputation methods. How well did the methods recover the missing values?  That is remove some data, check the % error on residuals for numeric data and check for bias and variance of the error.\n",
    "\n",
    "* For categorical data, calculate the accuracy and a confusion matrix.\n",
    "\n",
    "## About Dataset - Marketing Campaign\n",
    "\n",
    "**Context**\n",
    "A response model can provide a significant boost to the efficiency of a marketing campaign by increasing responses or reducing expenses. The objective is to predict who will respond to an offer for a product or service\n",
    "\n",
    "**Content**\n",
    "\n",
    "AcceptedCmp1 - 1 if customer accepted the offer in the 1st campaign, 0 otherwise\n",
    "AcceptedCmp2 - 1 if customer accepted the offer in the 2nd campaign, 0 otherwise\n",
    "AcceptedCmp3 - 1 if customer accepted the offer in the 3rd campaign, 0 otherwise\n",
    "AcceptedCmp4 - 1 if customer accepted the offer in the 4th campaign, 0 otherwise\n",
    "AcceptedCmp5 - 1 if customer accepted the offer in the 5th campaign, 0 otherwise\n",
    "Response (target) - 1 if customer accepted the offer in the last campaign, 0 otherwise\n",
    "Complain - 1 if customer complained in the last 2 years\n",
    "DtCustomer - date of customer’s enrolment with the company\n",
    "Education - customer’s level of education\n",
    "Marital - customer’s marital status\n",
    "Kidhome - number of small children in customer’s household\n",
    "Teenhome - number of teenagers in customer’s household\n",
    "Income - customer’s yearly household income\n",
    "MntFishProducts - amount spent on fish products in the last 2 years\n",
    "MntMeatProducts - amount spent on meat products in the last 2 years\n",
    "MntFruits - amount spent on fruits products in the last 2 years\n",
    "MntSweetProducts - amount spent on sweet products in the last 2 years\n",
    "MntWines - amount spent on wine products in the last 2 years\n",
    "MntGoldProds - amount spent on gold products in the last 2 years\n",
    "NumDealsPurchases - number of purchases made with discount\n",
    "NumCatalogPurchases - number of purchases made using catalogue\n",
    "NumStorePurchases - number of purchases made directly in stores\n",
    "NumWebPurchases - number of purchases made through company’s web site\n",
    "NumWebVisitsMonth - number of visits to company’s web site in the last month\n",
    "Recency - number of days since the last purchase"
   ]
  },
  {
   "cell_type": "code",
   "execution_count": 1,
   "id": "6fff2065",
   "metadata": {},
   "outputs": [],
   "source": [
    "import pandas as pd"
   ]
  },
  {
   "cell_type": "code",
   "execution_count": null,
   "id": "e4db3624",
   "metadata": {},
   "outputs": [],
   "source": [
    "data = pd.read_csv(\"https://raw.githubusercontent.com/makarandmadhavi/ML-Data-Cleaning-and-Feature-Selection/main/marketing_campaign.csv\", sep=\";\")\n",
    "data"
   ]
  },
  {
   "cell_type": "code",
   "execution_count": null,
   "id": "9e0068f2",
   "metadata": {},
   "outputs": [],
   "source": []
  }
 ],
 "metadata": {
  "kernelspec": {
   "display_name": "Python 3 (ipykernel)",
   "language": "python",
   "name": "python3"
  },
  "language_info": {
   "codemirror_mode": {
    "name": "ipython",
    "version": 3
   },
   "file_extension": ".py",
   "mimetype": "text/x-python",
   "name": "python",
   "nbconvert_exporter": "python",
   "pygments_lexer": "ipython3",
   "version": "3.9.13"
  }
 },
 "nbformat": 4,
 "nbformat_minor": 5
}
